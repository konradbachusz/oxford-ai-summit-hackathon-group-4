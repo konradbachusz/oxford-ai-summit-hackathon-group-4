{
  "cells": [
    {
      "cell_type": "markdown",
      "metadata": {
        "id": "sTbSI1knFlGw"
      },
      "source": [
        "## Oxford AI Summit: Group 4 Submission"
      ]
    },
    {
      "cell_type": "markdown",
      "metadata": {
        "id": "3dcAF9myFlGz"
      },
      "source": [
        "## Business Problem"
      ]
    },
    {
      "cell_type": "markdown",
      "metadata": {
        "id": "lFRA37EaFlG1"
      },
      "source": [
        "Ralph Lauren, being a global leader in the design, marketing, and distribution of premium lifestyle products, has a large volume of fashion inventory. Managing such a vast inventory and providing personalized product recommendations to customers can be quite challenging.\n",
        "\n",
        "Challenges:\n",
        "\n",
        "* Inventory Management: With a large variety of products, keeping track of inventory levels, predicting demand, and planning production can be complex. Overproduction can lead to increased storage costs and potential waste of resources if products don’t sell. Underproduction, on the other hand, can lead to missed sales opportunities and unsatisfied customers.\n",
        "\n",
        "* Product Recommendations: With a diverse customer base, understanding individual preferences to provide personalized product recommendations is not straightforward. The challenge is to analyze customer behavior and predict what products a customer might be interested in."
      ]
    },
    {
      "cell_type": "markdown",
      "metadata": {
        "id": "bZXwgrqmFlG3"
      },
      "source": [
        "## Our Solution"
      ]
    },
    {
      "cell_type": "markdown",
      "metadata": {
        "id": "RLngptkWFlG5"
      },
      "source": [
        "### Convolutional Neural Network (CNN) for Clothes Classification:\n",
        "\n",
        "A Convolutional Neural Network (CNN) is a type of deep learning model that is widely used for image classification tasks. In the context of Ralph Lauren, a CNN can be trained to classify images of clothing items into different categories such as shirts, pants, dresses, etc.\n",
        "\n",
        "The CNN would take an image of a clothing item as input and pass it through several layers of convolutional, ReLU (Rectified Linear Unit), pooling, and fully connected layers to output a probability distribution over the predefined classes. The class with the highest probability would be the model’s prediction for the type of clothing in the input image.\n",
        "\n",
        "Here’s a breakdown of the layers:\n",
        "\n",
        "* Conv2D(32, (3, 3), activation=‘relu’, input_shape=(28, 28, 1)): This is the first convolutional layer of the network. It uses 32 filters, each of size 3x3. The activation function is ‘relu’ (Rectified Linear Unit), which introduces non-linearity into the model. The input_shape=(28, 28, 1) indicates that the input images are 28x28 pixels with 1 color channel (grayscale).\n",
        "* MaxPooling2D((2, 2)): This is a max pooling layer, which reduces the spatial dimensions (width, height) of the input by taking the maximum value over a 2x2 window.\n",
        "* Conv2D(64, (3, 3), activation=‘relu’): This is the second convolutional layer, which uses 64 filters of size 3x3. The ‘relu’ activation function is used here as well.\n",
        "* MaxPooling2D((2, 2)): This is another max pooling layer, which further reduces the spatial dimensions of the input.\n",
        "* Conv2D(64, (3, 3), activation=‘relu’): This is the third convolutional layer with 64 filters of size 3x3 and ‘relu’ activation.\n",
        "* Flatten(): This layer flattens the input, i.e., it converts the 2D matrix (image) into a 1D vector to be used by the fully connected layers.\n",
        "* Dense(64, activation=‘relu’): This is a fully connected layer (also known as a dense layer), which performs a linear operation on the layer’s input vector. It has 64 neurons and uses the ‘relu’ activation function.\n",
        "* Dropout(0.5): This layer randomly sets half (rate=0.5) of the input units to 0 at each update during training, which helps prevent overfitting.\n",
        "* Dense(10, activation=‘softmax’): This is the output layer of the network. It has 10 neurons (assuming we have 10 classes to predict) and uses the ‘softmax’ activation function, which makes the output sum up to 1 so the output can be interpreted as probabilities. The model will then make its prediction based on which option has the highest probability."
      ]
    },
    {
      "cell_type": "markdown",
      "metadata": {
        "id": "KyQ6fz9NFlG6"
      },
      "source": [
        "## Value"
      ]
    },
    {
      "cell_type": "markdown",
      "metadata": {
        "id": "D2jc6yO7FlG7"
      },
      "source": [
        "Fashion Trend Prediction and Inventory Management:\n",
        "\n",
        "A CNN can be trained to classify images of Ralph Lauren’s clothing items into different categories such as shirts, pants, dresses, etc. This classifier can be used to analyze the images of clothing items sold online or in stores.\n",
        "\n",
        "* Inventory Management: Based on the trend prediction, Ralph Lauren can manage their inventory more effectively. If a certain style is trending, they can increase the production of that item to meet the demand. Conversely, if a style is not selling well, they can reduce its production to minimize losses.\n",
        "\n",
        "* Personalized Recommendations: The CNN can also be used to provide personalized recommendations to customers. By analyzing a customer’s purchase history, the CNN can recommend items that are similar to what the customer has bought in the past.\n",
        "Quality Control: The CNN can be used to inspect the quality of the items. By training the CNN to recognize defects in clothing items, Ralph Lauren can ensure that only high-quality items are sold."
      ]
    },
    {
      "cell_type": "markdown",
      "metadata": {
        "id": "-sZkPpLeFlG8"
      },
      "source": [
        "# Phase 1: Demo\n",
        "###  Below is a Python code using Keras to load the Fashion MNIST data, train a Convolutional Neural Network (CNN) model, evaluate its performance, visualize the performance, and save the model"
      ]
    },
    {
      "cell_type": "code",
      "execution_count": null,
      "metadata": {
        "id": "4CufqHO5FlG9"
      },
      "outputs": [],
      "source": [
        "import numpy as np\n",
        "import matplotlib.pyplot as plt\n",
        "from tensorflow.keras.datasets import fashion_mnist\n",
        "from tensorflow.keras.models import Sequential\n",
        "from tensorflow.keras.layers import Conv2D, MaxPooling2D, Flatten, Dense, Dropout\n",
        "from tensorflow.keras.utils import to_categorical\n",
        "from tensorflow.keras.callbacks import ModelCheckpoint\n",
        "import matplotlib.pyplot as plt\n",
        "import seaborn as sns\n",
        "from sklearn.metrics import confusion_matrix\n",
        "from transformers import AutoImageProcessor, AutoModelForImageClassification\n",
        "from PIL import Image\n",
        "import requests\n",
        "from io import BytesIO\n",
        "import os\n",
        "\n"
      ]
    },
    {
      "cell_type": "code",
      "execution_count": null,
      "metadata": {
        "id": "z67bwpFDFlG_",
        "outputId": "492d3811-b9dd-4554-99f5-d02e1bec72c5",
        "colab": {
          "base_uri": "https://localhost:8080/"
        }
      },
      "outputs": [
        {
          "output_type": "stream",
          "name": "stdout",
          "text": [
            "Downloading data from https://storage.googleapis.com/tensorflow/tf-keras-datasets/train-labels-idx1-ubyte.gz\n",
            "29515/29515 [==============================] - 0s 0us/step\n",
            "Downloading data from https://storage.googleapis.com/tensorflow/tf-keras-datasets/train-images-idx3-ubyte.gz\n",
            "26421880/26421880 [==============================] - 0s 0us/step\n",
            "Downloading data from https://storage.googleapis.com/tensorflow/tf-keras-datasets/t10k-labels-idx1-ubyte.gz\n",
            "5148/5148 [==============================] - 0s 0us/step\n",
            "Downloading data from https://storage.googleapis.com/tensorflow/tf-keras-datasets/t10k-images-idx3-ubyte.gz\n",
            "4422102/4422102 [==============================] - 0s 0us/step\n"
          ]
        }
      ],
      "source": [
        "\n",
        "# Load Fashion MNIST data\n",
        "(train_images, train_labels), (test_images, test_labels) = fashion_mnist.load_data()\n",
        "\n",
        "# List of class names for the Fashion MNIST dataset\n",
        "class_names = ['T-shirt/top', 'Trouser', 'Pullover', 'Dress', 'Coat',\n",
        "               'Sandal', 'Shirt', 'Sneaker', 'Bag', 'Ankle boot']\n",
        "\n"
      ]
    },
    {
      "cell_type": "code",
      "execution_count": null,
      "metadata": {
        "id": "zOB2f484FlHA",
        "outputId": "b78acb15-c997-4188-d140-13cb3fa297d8",
        "colab": {
          "base_uri": "https://localhost:8080/",
          "height": 329
        }
      },
      "outputs": [
        {
          "output_type": "display_data",
          "data": {
            "text/plain": [
              "<Figure size 1000x1000 with 10 Axes>"
            ],
            "image/png": "[encoded data removed]"
          },
          "metadata": {}
        }
      ],
      "source": [
        "\n",
        "# Visualize the data\n",
        "def show_sample_images(train_images, sample_size=10):\n",
        "    \"\"\"\n",
        "    Displays a sample of images from the Fashion MNIST training dataset.\n",
        "\n",
        "    Parameters:\n",
        "    - train_images: numpy array of training images.\n",
        "    - train_labels: numpy array of training labels.\n",
        "    - class_names: list of class names corresponding to the labels.\n",
        "    - sample_size: number of images to display (default is 10).\n",
        "    \"\"\"\n",
        "    plt.figure(figsize=(10, 10))\n",
        "    for i in range(sample_size):\n",
        "        plt.subplot(5, 5, i + 1)\n",
        "        plt.xticks([])\n",
        "        plt.yticks([])\n",
        "        plt.grid(False)\n",
        "        plt.imshow(train_images[i], cmap=plt.cm.binary)\n",
        "\n",
        "    plt.show()\n",
        "\n",
        "show_sample_images(train_images)\n",
        "\n"
      ]
    },
    {
      "cell_type": "code",
      "execution_count": null,
      "metadata": {
        "id": "o-3btJ0yFlHB"
      },
      "outputs": [],
      "source": [
        "\n",
        "# Preprocess the data\n",
        "train_images = train_images.reshape((train_images.shape[0], 28, 28, 1)).astype('float32') / 255\n",
        "test_images = test_images.reshape((test_images.shape[0], 28, 28, 1)).astype('float32') / 255\n",
        "train_labels = to_categorical(train_labels)\n",
        "test_labels = to_categorical(test_labels)\n"
      ]
    },
    {
      "cell_type": "code",
      "execution_count": null,
      "metadata": {
        "id": "zs6VdbYdFlHC"
      },
      "outputs": [],
      "source": [
        "\n",
        "# Build the CNN model\n",
        "model = Sequential([\n",
        "    Conv2D(32, (3, 3), activation='relu', input_shape=(28, 28, 1)),\n",
        "    MaxPooling2D((2, 2)),\n",
        "    Conv2D(64, (3, 3), activation='relu'),\n",
        "    MaxPooling2D((2, 2)),\n",
        "    Conv2D(64, (3, 3), activation='relu'),\n",
        "    Flatten(),\n",
        "    Dense(64, activation='relu'),\n",
        "    Dropout(0.5),\n",
        "    Dense(10, activation='softmax')\n",
        "])\n"
      ]
    },
    {
      "cell_type": "code",
      "execution_count": null,
      "metadata": {
        "id": "Jd8Ff-dzFlHC",
        "outputId": "2737955f-7e46-47d1-ff69-19dd27c7e0bb",
        "colab": {
          "base_uri": "https://localhost:8080/"
        }
      },
      "outputs": [
        {
          "output_type": "stream",
          "name": "stdout",
          "text": [
            "Loading existing model weights.\n"
          ]
        }
      ],
      "source": [
        "# Compile the model\n",
        "model.compile(optimizer='adam', loss='categorical_crossentropy', metrics=['accuracy'])\n",
        "\n",
        "# Define the path where the model weights will be saved\n",
        "model_weights_path = 'fashion_mnist_model.h5'\n",
        "\n",
        "# Check if the model weights file exists\n",
        "if os.path.exists(model_weights_path):\n",
        "    print(\"Loading existing model weights.\")\n",
        "    model.load_weights(model_weights_path)\n",
        "else:\n",
        "    print(\"No saved model found, training a new model.\")\n",
        "    # Train the model and save the best weights\n",
        "    checkpoint = ModelCheckpoint(model_weights_path, save_best_only=True)\n",
        "    history = model.fit(train_images, train_labels, epochs=10, validation_split=0.2, callbacks=[checkpoint])\n"
      ]
    },
    {
      "cell_type": "code",
      "execution_count": null,
      "metadata": {
        "id": "FwixXzBFFlHD",
        "outputId": "9470d817-66a5-43f9-eb14-a52de3a797bd",
        "colab": {
          "base_uri": "https://localhost:8080/",
          "height": 490
        }
      },
      "outputs": [
        {
          "output_type": "stream",
          "name": "stdout",
          "text": [
            "313/313 [==============================] - 3s 8ms/step - loss: 0.2753 - accuracy: 0.9018\n",
            "Test accuracy: 0.9018\n"
          ]
        },
        {
          "output_type": "display_data",
          "data": {
            "text/plain": [
              "<Figure size 640x480 with 1 Axes>"
            ],
            "image/png": "[encoded data removed]"
          },
          "metadata": {}
        }
      ],
      "source": [
        "\n",
        "# Evaluate the model\n",
        "test_loss, test_acc = model.evaluate(test_images, test_labels)\n",
        "print(f'Test accuracy: {test_acc:.4f}')\n",
        "\n",
        "# Visualize the model performance\n",
        "plt.plot(history.history['accuracy'], label='accuracy')\n",
        "plt.plot(history.history['val_accuracy'], label='val_accuracy')\n",
        "plt.xlabel('Epoch')\n",
        "plt.ylabel('Accuracy')\n",
        "plt.ylim([0, 1])\n",
        "plt.legend(loc='lower right')\n",
        "plt.show()\n"
      ]
    },
    {
      "cell_type": "code",
      "execution_count": null,
      "metadata": {
        "id": "4wm744wiFlHD",
        "outputId": "b30d380e-405d-41b2-e326-9ba427be8a00",
        "colab": {
          "base_uri": "https://localhost:8080/",
          "height": 176
        }
      },
      "outputs": [
        {
          "output_type": "error",
          "ename": "NameError",
          "evalue": "name 'model' is not defined",
          "traceback": [
            "\u001b[0;31m---------------------------------------------------------------------------\u001b[0m",
            "\u001b[0;31mNameError\u001b[0m                                 Traceback (most recent call last)",
            "\u001b[0;32m<ipython-input-4-6c8be6e503f8>\u001b[0m in \u001b[0;36m<cell line: 28>\u001b[0;34m()\u001b[0m\n\u001b[1;32m     26\u001b[0m     \u001b[0mplt\u001b[0m\u001b[0;34m.\u001b[0m\u001b[0mshow\u001b[0m\u001b[0;34m(\u001b[0m\u001b[0;34m)\u001b[0m\u001b[0;34m\u001b[0m\u001b[0;34m\u001b[0m\u001b[0m\n\u001b[1;32m     27\u001b[0m \u001b[0;34m\u001b[0m\u001b[0m\n\u001b[0;32m---> 28\u001b[0;31m \u001b[0mplot_confusion_matrix\u001b[0m\u001b[0;34m(\u001b[0m\u001b[0mmodel\u001b[0m\u001b[0;34m,\u001b[0m \u001b[0mtest_images\u001b[0m\u001b[0;34m,\u001b[0m \u001b[0mtest_labels\u001b[0m\u001b[0;34m,\u001b[0m \u001b[0mclass_names\u001b[0m\u001b[0;34m)\u001b[0m\u001b[0;34m\u001b[0m\u001b[0;34m\u001b[0m\u001b[0m\n\u001b[0m",
            "\u001b[0;31mNameError\u001b[0m: name 'model' is not defined"
          ]
        }
      ],
      "source": [
        "#Plot confusion matrix\n",
        "def plot_confusion_matrix(model, test_images, test_labels, class_names):\n",
        "    \"\"\"\n",
        "    Plots a confusion matrix using the predictions from a Keras model.\n",
        "\n",
        "    Parameters:\n",
        "    - model: trained Keras model.\n",
        "    - test_images: numpy array of test images.\n",
        "    - test_labels: numpy array of true labels for the test images.\n",
        "    - class_names: list of class names corresponding to the labels.\n",
        "    \"\"\"\n",
        "    # Get the model's predictions\n",
        "    predictions = model.predict(test_images)\n",
        "    predicted_labels = np.argmax(predictions, axis=1)\n",
        "    true_labels = np.argmax(test_labels, axis=1)\n",
        "\n",
        "    # Compute the confusion matrix\n",
        "    cm = confusion_matrix(true_labels, predicted_labels)\n",
        "\n",
        "    # Plot the confusion matrix\n",
        "    plt.figure(figsize=(10, 8))\n",
        "    sns.heatmap(cm, annot=True, fmt='d', cmap='Blues', xticklabels=class_names, yticklabels=class_names)\n",
        "    plt.xlabel('Predicted Label')\n",
        "    plt.ylabel('True Label')\n",
        "    plt.title('Confusion Matrix')\n",
        "    plt.show()\n",
        "\n",
        "plot_confusion_matrix(model, test_images, test_labels, class_names)\n"
      ]
    },
    {
      "cell_type": "code",
      "execution_count": null,
      "metadata": {
        "id": "htkxoSVhFlHD"
      },
      "outputs": [],
      "source": [
        "\n",
        "# Save the model\n",
        "model.save('fashion_mnist_model_final.h5')\n"
      ]
    },
    {
      "cell_type": "markdown",
      "metadata": {
        "id": "_MzK01WCFlHE"
      },
      "source": [
        "# Phase 2: Better model using Huggingface"
      ]
    },
    {
      "cell_type": "code",
      "execution_count": null,
      "metadata": {
        "id": "3YlU9-X2FlHF"
      },
      "outputs": [],
      "source": [
        "\n",
        "\n",
        "\n",
        "# Load the model and processor\n",
        "processor = AutoImageProcessor.from_pretrained(\"harshp8l/Fashion-Product-Images\")\n",
        "model = AutoModelForImageClassification.from_pretrained(\"harshp8l/Fashion-Product-Images\")\n"
      ]
    },
    {
      "cell_type": "code",
      "execution_count": null,
      "metadata": {
        "id": "d3GZR3oOFlHF"
      },
      "outputs": [],
      "source": [
        "\n",
        "# Function to load, display and predict the class of an image\n",
        "def classify_image(image_url):\n",
        "    \"\"\"\n",
        "    Loads an image from a URL, displays it, and predicts the class using a Hugging Face model.\n",
        "\n",
        "    Parameters:\n",
        "    - image_url: URL of the image to be classified.\n",
        "    \"\"\"\n",
        "    # Load image from the URL\n",
        "    response = requests.get(image_url)\n",
        "    image = Image.open(BytesIO(response.content))\n",
        "\n",
        "    # Display the image\n",
        "    plt.imshow(image)\n",
        "    plt.axis('off')  # Hide the axis\n",
        "    plt.show()\n",
        "\n",
        "    # Preprocess the image and prepare it for the model\n",
        "    inputs = processor(images=image, return_tensors=\"pt\")\n",
        "\n",
        "    # Predict the class of the image\n",
        "    outputs = model(**inputs)\n",
        "    logits = outputs.logits\n",
        "    predicted_class_idx = logits.argmax(-1).item()\n",
        "\n",
        "    # Retrieve the class name using the predicted class index\n",
        "    class_name = model.config.id2label[predicted_class_idx]\n",
        "    print(f\"\\nPredicted class: {class_name}\")\n"
      ]
    },
    {
      "cell_type": "code",
      "execution_count": null,
      "metadata": {
        "id": "1O4PfsKzFlHF"
      },
      "outputs": [],
      "source": [
        "\n",
        "# Example usage:\n",
        "image_urls = [\n",
        "             'https://media.loaf.com/image/upload/c_crop,h_857,w_1200,x_0,y_21/f_auto/q_auto/c_pad,h_786,w_1100/website/images/original/512789-sockins-sofa-sock-in-burnt-orange-stripe-full-sock-option-3.jpg',\n",
        "             'https://photos6.spartoo.co.uk/photos/245/24595191/24595191_1200_A.jpg',\n",
        "             'https://clobbercartelz.com/cdn/shop/files/7A3AD657-B9ED-48E6-97AF-85870FA7DC41.jpg']\n",
        "for image_url in image_urls:\n",
        "    classify_image(image_url)\n"
      ]
    },
    {
      "cell_type": "markdown",
      "metadata": {
        "id": "9YraEzyCFlHG"
      },
      "source": [
        "# Phase 3: Sexy Graph Database Search Solution with Graph RAG, Neo4J and LlamaIndex"
      ]
    },
    {
      "cell_type": "markdown",
      "metadata": {
        "id": "3NC51BpxFlHH"
      },
      "source": [
        "#TODO"
      ]
    },
    {
      "cell_type": "markdown",
      "metadata": {
        "id": "qWnaUhp2FlHH"
      },
      "source": [
        "# Phase 4: 💰"
      ]
    },
    {
      "cell_type": "code",
      "execution_count": null,
      "metadata": {
        "id": "TWY9rOTxFlHI"
      },
      "outputs": [],
      "source": []
    }
  ],
  "metadata": {
    "kernelspec": {
      "display_name": "Python 3",
      "language": "python",
      "name": "python3"
    },
    "language_info": {
      "codemirror_mode": {
        "name": "ipython",
        "version": 3
      },
      "file_extension": ".py",
      "mimetype": "text/x-python",
      "name": "python",
      "nbconvert_exporter": "python",
      "pygments_lexer": "ipython3",
      "version": "3.10.11"
    },
    "colab": {
      "provenance": []
    }
  },
  "nbformat": 4,
  "nbformat_minor": 0
}